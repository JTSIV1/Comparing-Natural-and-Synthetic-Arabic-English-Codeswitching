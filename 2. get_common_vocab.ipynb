{
 "cells": [
  {
   "cell_type": "code",
   "execution_count": 12,
   "metadata": {},
   "outputs": [],
   "source": [
    "# Read the vocabularies from the files\n",
    "with open('artificial_vocab.txt', 'r', encoding='utf-8') as file:\n",
    "    artificial_vocab = set(file.read().splitlines(), )\n",
    "\n",
    "with open('natural_vocab.txt', 'r', encoding='utf-8') as file:\n",
    "    natural_vocab = set(file.read().splitlines())\n",
    "\n",
    "# Find the overlapping vocab items\n",
    "overlapping_vocab = artificial_vocab.intersection(natural_vocab)\n",
    "\n",
    "# Save the overlapping vocab items to a new text file\n",
    "with open('overlapping_vocab.txt', 'w', encoding='utf-8') as file:\n",
    "    for item in overlapping_vocab:\n",
    "        file.write(f\"{item}\\n\")"
   ]
  }
 ],
 "metadata": {
  "kernelspec": {
   "display_name": "Python 3",
   "language": "python",
   "name": "python3"
  },
  "language_info": {
   "codemirror_mode": {
    "name": "ipython",
    "version": 3
   },
   "file_extension": ".py",
   "mimetype": "text/x-python",
   "name": "python",
   "nbconvert_exporter": "python",
   "pygments_lexer": "ipython3",
   "version": "3.10.11"
  }
 },
 "nbformat": 4,
 "nbformat_minor": 2
}
