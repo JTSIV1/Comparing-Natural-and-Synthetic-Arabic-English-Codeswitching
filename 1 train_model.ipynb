{
 "cells": [
  {
   "cell_type": "code",
   "execution_count": 30,
   "metadata": {},
   "outputs": [],
   "source": [
    "from gensim.models import Word2Vec\n",
    "import string\n",
    "\n",
    "delimiters = string.punctuation+\"؟،؛\"\n",
    "\n",
    "def get_data(data, column_of_interest):\n",
    "    new_data = []\n",
    "    for text in data[column_of_interest]:\n",
    "        new_line = text.lower().replace(\"\\n\", \" \").translate(str.maketrans('', '', delimiters)).split()\n",
    "        new_data.append(new_line)\n",
    "    return new_data\n",
    "\n",
    "def save_vocab(name, vocab):\n",
    "    with open(f\"{name}_vocab.txt\", \"w\", encoding=\"utf-8\") as f:\n",
    "        for word in vocab:\n",
    "            f.write(word + \"\\n\")\n",
    "\n",
    "def train_and_save_model(name, data, column_of_interest, skip_gram=0):\n",
    "    clean_data = get_data(data, column_of_interest)\n",
    "    print()\n",
    "\n",
    "    model = Word2Vec(vector_size=100, window=5, sg=skip_gram, epochs=1)\n",
    "    model.build_vocab(clean_data)\n",
    "    model.train(clean_data, total_examples=len(clean_data), epochs=50)\n",
    "\n",
    "    vocab = list(model.wv.key_to_index.keys())\n",
    "    save_vocab(name, vocab)\n",
    "\n",
    "    if skip_gram == 0:\n",
    "        model.save(f\"{name}_cbow.model\")\n",
    "    else:\n",
    "        model.save(f\"{name}_sg.model\")"
   ]
  },
  {
   "cell_type": "markdown",
   "metadata": {},
   "source": [
    "### Import Datasets\n",
    "Both datasets are from HuggingFace:\n",
    "- Artificial: https://huggingface.co/datasets/SDAIANCAI/Ar-En-Code-Switching-Textual-Dataset\n",
    "- Natural: https://huggingface.co/datasets/MohamedRashad/arabic-english-code-switching"
   ]
  },
  {
   "cell_type": "code",
   "execution_count": null,
   "metadata": {},
   "outputs": [
    {
     "name": "stdout",
     "output_type": "stream",
     "text": [
      "Training natural model with 0 skip\n",
      "\n",
      "Training natural model with 1 skip\n",
      "\n",
      "Training artificial model with 0 skip\n",
      "\n",
      "Training artificial model with 1 skip\n",
      "\n"
     ]
    }
   ],
   "source": [
    "from datasets import load_dataset, Split\n",
    "\n",
    "datasets = [\n",
    "    (\"natural\", \"MohamedRashad/arabic-english-code-switching\", \"sentence\"),\n",
    "    (\"artificial\", \"SDAIANCAI/Ar-En-Code-Switching-Textual-Dataset\", \"text\")\n",
    "]\n",
    "\n",
    "for name, link, col_header in datasets:\n",
    "    ds = load_dataset(link, split=Split.TRAIN)\n",
    "    for i in [0, 1]:\n",
    "        print(f\"Training {name} model with {i} skip\")\n",
    "        train_and_save_model(name, ds, col_header, skip_gram=i)"
   ]
  }
 ],
 "metadata": {
  "kernelspec": {
   "display_name": "Python 3",
   "language": "python",
   "name": "python3"
  },
  "language_info": {
   "codemirror_mode": {
    "name": "ipython",
    "version": 3
   },
   "file_extension": ".py",
   "mimetype": "text/x-python",
   "name": "python",
   "nbconvert_exporter": "python",
   "pygments_lexer": "ipython3",
   "version": "3.10.11"
  }
 },
 "nbformat": 4,
 "nbformat_minor": 2
}
